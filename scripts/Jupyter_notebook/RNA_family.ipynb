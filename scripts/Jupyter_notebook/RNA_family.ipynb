{
 "cells": [
  {
   "cell_type": "markdown",
   "metadata": {},
   "source": [
    "# This Notebook is used to build a new file with all RNA family"
   ]
  },
  {
   "cell_type": "markdown",
   "metadata": {},
   "source": [
    "Including the following items:\n",
    "1. Xall -> sequence\n",
    "2. ids -> coordinates\n",
    "3: labels -> name of RNA family\n",
    "4: 1000 samples for each RNA type"
   ]
  },
  {
   "cell_type": "code",
   "execution_count": 1,
   "metadata": {},
   "outputs": [],
   "source": [
    "#Fasta file direction\n",
    "lncRNA = \"/home/sxr280/BERTLocRNA/data/Annotation/processed_FASTA/processed/sample.ensembl.human.GRCh38.109.lnc_RNA.fasta\"\n",
    "miRNA = \"/home/sxr280/BERTLocRNA/data/Annotation/processed_FASTA/processed/sample.ensembl.human.GRCh38.109.miRNA.fasta\"\n",
    "ncRNA = \"/home/sxr280/BERTLocRNA/data/Annotation/processed_FASTA/processed/sample.ensembl.human.GRCh38.109.ncRNA.fasta\"\n",
    "rRNA = \"/home/sxr280/BERTLocRNA/data/Annotation/processed_FASTA/processed/sample.ensembl.human.GRCh38.109.rRNA.fasta\"\n",
    "scRNA = \"/home/sxr280/BERTLocRNA/data/Annotation/processed_FASTA/processed/sample.ensembl.human.GRCh38.109.scRNA.fasta\"\n",
    "snoRNA = \"/home/sxr280/BERTLocRNA/data/Annotation/processed_FASTA/processed/sample.ensembl.human.GRCh38.109.snoRNA.fasta\"\n",
    "snRNA = \"/home/sxr280/BERTLocRNA/data/Annotation/processed_FASTA/processed/sample.ensembl.human.GRCh38.109.snRNA.fasta\"\n",
    "#set number of sequence to capture\n",
    "number  = 1000\n",
    "RNA_dict = {\"lncRNA\": lncRNA, \"miRNA\": miRNA, \"ncRNA\": ncRNA, \"rRNA\": rRNA, \"scRNA\": scRNA, \"snoRNA\": snoRNA, \"snRNA\": snRNA}\n"
   ]
  },
  {
   "cell_type": "code",
   "execution_count": 13,
   "metadata": {},
   "outputs": [],
   "source": [
    "# from pysam import Fasta\n",
    "# Import the modules\n",
    "import pandas as pd\n",
    "from Bio import SeqIO\n",
    "import random \n",
    "\n",
    "\n",
    "\n",
    "def singleRNA(rna, fasta, number, records, max_len):\n",
    "    count = 0 \n",
    "    # Open the FASTA file and iterate over the records\n",
    "    with open(fasta, \"r\") as f:\n",
    "        for record in SeqIO.parse(f, \"fasta\"):\n",
    "            \n",
    "            # Get the header and sequence as strings\n",
    "            header = record.description\n",
    "            sequence = str(record.seq)\n",
    "            if len(sequence) <= max_len:\n",
    "                count += 1\n",
    "            # Parse the header using the function\n",
    "            # Append a dictionary of ID, name, species, and sequence to the list\n",
    "                if count <= number:\n",
    "                    records.append({\"ids\": header, \"Xall\": sequence, \"label\": rna})\n",
    "    return records\n",
    "def allRNA(RNAfamily, number, max_len):\n",
    "# Create an empty list to store the parsed records\n",
    "    records = []\n",
    "    mRNA_count = 0\n",
    "    for rna, fasta in RNAfamily.items():\n",
    "        records = singleRNA(rna, fasta, number, records, max_len)\n",
    "    #top up with mRNA\n",
    "    allRNA = \"/home/sxr280/DeepLocRNA/DeepLocRNA/data/allRNA/allRNA_all_human_data_seq_mergedm3locall2_pooled_deduplicated3_filtermilncsnsno.fasta\"\n",
    "    with open(allRNA, \"r\") as f:\n",
    "        for record in SeqIO.parse(f, \"fasta\"):\n",
    "            header = record.description\n",
    "            sequence = str(record.seq)\n",
    "            rna_type = header.split(\",\")[-2].split(\":\")[1]\n",
    "            # print(rna_type)\n",
    "            if rna_type == \"mRNA\":\n",
    "                if len(sequence) <= max_len:\n",
    "                    mRNA_count += 1\n",
    "                    if mRNA_count <= number:\n",
    "                        records.append({\"ids\": header, \"Xall\": sequence, \"label\": rna_type})\n",
    "    #top up with random\n",
    "    voc = [\"A\", \"T\", \"G\", \"C\"]\n",
    "    for i in range(number):\n",
    "        sequence = \"\".join(random.choices(voc, k = max_len))\n",
    "        records.append({\"ids\": \"Random\", \"Xall\": sequence, \"label\": \"Random\"})\n",
    "    # Convert the list of dictionaries into a pandas DataFrame\n",
    "    df = pd.DataFrame(records)\n",
    "    return df\n",
    "\n",
    "\n",
    "df = allRNA(RNA_dict, number, 8000)\n",
    "df.to_csv(\"../../data/allRNAfamily.csv\", index = False)\n",
    "\n"
   ]
  },
  {
   "cell_type": "code",
   "execution_count": 14,
   "metadata": {},
   "outputs": [
    {
     "data": {
      "text/plain": [
       "lncRNA    1000\n",
       "miRNA     1000\n",
       "ncRNA     1000\n",
       "snRNA     1000\n",
       "mRNA      1000\n",
       "Random    1000\n",
       "snoRNA     942\n",
       "scRNA       50\n",
       "rRNA        47\n",
       "Name: label, dtype: int64"
      ]
     },
     "execution_count": 14,
     "metadata": {},
     "output_type": "execute_result"
    }
   ],
   "source": [
    "counts = df[\"label\"].value_counts()\n",
    "counts\n"
   ]
  },
  {
   "cell_type": "code",
   "execution_count": 37,
   "metadata": {},
   "outputs": [
    {
     "data": {
      "application/json": {
       "ascii": false,
       "bar_format": null,
       "colour": null,
       "elapsed": 0.011075258255004883,
       "initial": 0,
       "n": 0,
       "ncols": null,
       "nrows": null,
       "postfix": null,
       "prefix": "Downloading data files",
       "rate": null,
       "total": 1,
       "unit": "it",
       "unit_divisor": 1000,
       "unit_scale": false
      },
      "application/vnd.jupyter.widget-view+json": {
       "model_id": "271a8170b58541ce92dd43e7d6ab2f64",
       "version_major": 2,
       "version_minor": 0
      },
      "text/plain": [
       "Downloading data files:   0%|          | 0/1 [00:00<?, ?it/s]"
      ]
     },
     "metadata": {},
     "output_type": "display_data"
    },
    {
     "data": {
      "application/json": {
       "ascii": false,
       "bar_format": null,
       "colour": null,
       "elapsed": 0.009915590286254883,
       "initial": 0,
       "n": 0,
       "ncols": null,
       "nrows": null,
       "postfix": null,
       "prefix": "Downloading data",
       "rate": null,
       "total": 6943527,
       "unit": "B",
       "unit_divisor": 1000,
       "unit_scale": true
      },
      "application/vnd.jupyter.widget-view+json": {
       "model_id": "87e226c4722c450c838c6eff69021da8",
       "version_major": 2,
       "version_minor": 0
      },
      "text/plain": [
       "Downloading data:   0%|          | 0.00/6.94M [00:00<?, ?B/s]"
      ]
     },
     "metadata": {},
     "output_type": "display_data"
    },
    {
     "data": {
      "application/json": {
       "ascii": false,
       "bar_format": null,
       "colour": null,
       "elapsed": 0.009313821792602539,
       "initial": 0,
       "n": 0,
       "ncols": null,
       "nrows": null,
       "postfix": null,
       "prefix": "Extracting data files",
       "rate": null,
       "total": 1,
       "unit": "it",
       "unit_divisor": 1000,
       "unit_scale": false
      },
      "application/vnd.jupyter.widget-view+json": {
       "model_id": "7838df84457b4bbebdb5cb2dc5a18d5e",
       "version_major": 2,
       "version_minor": 0
      },
      "text/plain": [
       "Extracting data files:   0%|          | 0/1 [00:00<?, ?it/s]"
      ]
     },
     "metadata": {},
     "output_type": "display_data"
    },
    {
     "data": {
      "application/json": {
       "ascii": false,
       "bar_format": null,
       "colour": null,
       "elapsed": 0.009284257888793945,
       "initial": 0,
       "n": 0,
       "ncols": null,
       "nrows": null,
       "postfix": null,
       "prefix": "Generating train split",
       "rate": null,
       "total": 0,
       "unit": " examples",
       "unit_divisor": 1000,
       "unit_scale": false
      },
      "application/vnd.jupyter.widget-view+json": {
       "model_id": "bb43a40bb86a4ea39c3fb00b2a1cb98c",
       "version_major": 2,
       "version_minor": 0
      },
      "text/plain": [
       "Generating train split: 0 examples [00:00, ? examples/s]"
      ]
     },
     "metadata": {},
     "output_type": "display_data"
    }
   ],
   "source": [
    "#loading the dataset from hugging face\n",
    "from datasets import load_dataset\n",
    "a = load_dataset(\"TerminatorJ/RNAembedding_multiRNA\")\n",
    "\n"
   ]
  },
  {
   "cell_type": "code",
   "execution_count": 8,
   "metadata": {},
   "outputs": [
    {
     "data": {
      "text/plain": [
       "'GGATCC'"
      ]
     },
     "execution_count": 8,
     "metadata": {},
     "output_type": "execute_result"
    }
   ],
   "source": [
    "\n",
    "  \n",
    "# Prints list of random items of given length \n",
    "voc = [\"A\", \"T\", \"G\", \"C\"]\n",
    "  \n"
   ]
  },
  {
   "cell_type": "markdown",
   "metadata": {},
   "source": []
  }
 ],
 "metadata": {
  "kernelspec": {
   "display_name": "deeploc_torch",
   "language": "python",
   "name": "python3"
  },
  "language_info": {
   "codemirror_mode": {
    "name": "ipython",
    "version": 3
   },
   "file_extension": ".py",
   "mimetype": "text/x-python",
   "name": "python",
   "nbconvert_exporter": "python",
   "pygments_lexer": "ipython3",
   "version": "3.8.17"
  }
 },
 "nbformat": 4,
 "nbformat_minor": 2
}
